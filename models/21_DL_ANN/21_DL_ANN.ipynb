{
 "cells": [
  {
   "cell_type": "code",
   "execution_count": 1,
   "metadata": {},
   "outputs": [],
   "source": [
    "# @itsvenu_\n",
    "# Artificial Neural Networks - Churn modelling\n",
    "\n",
    "# Y = ActivationFunction * (Weighted sum of input)\n",
    "# weights are adjusted to minimize the cost function, eg of\n",
    "# cost function C = SUM->1/2*(Y_hat - Y_true)**2\n",
    "\n",
    "# Activation functions:\n",
    "# Threshold function\n",
    "# Signmoid function\n",
    "# Rectifier function - popular one e.g RLU\n",
    "# Hyperbolic tangent function"
   ]
  },
  {
   "cell_type": "code",
   "execution_count": 36,
   "metadata": {},
   "outputs": [
    {
     "name": "stdout",
     "output_type": "stream",
     "text": [
      "2.1.0\n"
     ]
    }
   ],
   "source": [
    "import pandas as pd\n",
    "import numpy as np\n",
    "import matplotlib.pyplot as plt\n",
    "from sklearn.preprocessing import OneHotEncoder, LabelEncoder, StandardScaler\n",
    "from sklearn.compose import ColumnTransformer\n",
    "from sklearn.model_selection import train_test_split\n",
    "from sklearn.metrics import confusion_matrix, accuracy_score\n",
    "\n",
    "import tensorflow as tf\n",
    "print(tf.__version__)\n"
   ]
  },
  {
   "cell_type": "code",
   "execution_count": 3,
   "metadata": {},
   "outputs": [
    {
     "data": {
      "text/html": [
       "<div>\n",
       "<style scoped>\n",
       "    .dataframe tbody tr th:only-of-type {\n",
       "        vertical-align: middle;\n",
       "    }\n",
       "\n",
       "    .dataframe tbody tr th {\n",
       "        vertical-align: top;\n",
       "    }\n",
       "\n",
       "    .dataframe thead th {\n",
       "        text-align: right;\n",
       "    }\n",
       "</style>\n",
       "<table border=\"1\" class=\"dataframe\">\n",
       "  <thead>\n",
       "    <tr style=\"text-align: right;\">\n",
       "      <th></th>\n",
       "      <th>RowNumber</th>\n",
       "      <th>CustomerId</th>\n",
       "      <th>Surname</th>\n",
       "      <th>CreditScore</th>\n",
       "      <th>Geography</th>\n",
       "      <th>Gender</th>\n",
       "      <th>Age</th>\n",
       "      <th>Tenure</th>\n",
       "      <th>Balance</th>\n",
       "      <th>NumOfProducts</th>\n",
       "      <th>HasCrCard</th>\n",
       "      <th>IsActiveMember</th>\n",
       "      <th>EstimatedSalary</th>\n",
       "      <th>Exited</th>\n",
       "    </tr>\n",
       "  </thead>\n",
       "  <tbody>\n",
       "    <tr>\n",
       "      <th>0</th>\n",
       "      <td>1</td>\n",
       "      <td>15634602</td>\n",
       "      <td>Hargrave</td>\n",
       "      <td>619</td>\n",
       "      <td>France</td>\n",
       "      <td>Female</td>\n",
       "      <td>42</td>\n",
       "      <td>2</td>\n",
       "      <td>0.00</td>\n",
       "      <td>1</td>\n",
       "      <td>1</td>\n",
       "      <td>1</td>\n",
       "      <td>101348.88</td>\n",
       "      <td>1</td>\n",
       "    </tr>\n",
       "    <tr>\n",
       "      <th>1</th>\n",
       "      <td>2</td>\n",
       "      <td>15647311</td>\n",
       "      <td>Hill</td>\n",
       "      <td>608</td>\n",
       "      <td>Spain</td>\n",
       "      <td>Female</td>\n",
       "      <td>41</td>\n",
       "      <td>1</td>\n",
       "      <td>83807.86</td>\n",
       "      <td>1</td>\n",
       "      <td>0</td>\n",
       "      <td>1</td>\n",
       "      <td>112542.58</td>\n",
       "      <td>0</td>\n",
       "    </tr>\n",
       "    <tr>\n",
       "      <th>2</th>\n",
       "      <td>3</td>\n",
       "      <td>15619304</td>\n",
       "      <td>Onio</td>\n",
       "      <td>502</td>\n",
       "      <td>France</td>\n",
       "      <td>Female</td>\n",
       "      <td>42</td>\n",
       "      <td>8</td>\n",
       "      <td>159660.80</td>\n",
       "      <td>3</td>\n",
       "      <td>1</td>\n",
       "      <td>0</td>\n",
       "      <td>113931.57</td>\n",
       "      <td>1</td>\n",
       "    </tr>\n",
       "    <tr>\n",
       "      <th>3</th>\n",
       "      <td>4</td>\n",
       "      <td>15701354</td>\n",
       "      <td>Boni</td>\n",
       "      <td>699</td>\n",
       "      <td>France</td>\n",
       "      <td>Female</td>\n",
       "      <td>39</td>\n",
       "      <td>1</td>\n",
       "      <td>0.00</td>\n",
       "      <td>2</td>\n",
       "      <td>0</td>\n",
       "      <td>0</td>\n",
       "      <td>93826.63</td>\n",
       "      <td>0</td>\n",
       "    </tr>\n",
       "    <tr>\n",
       "      <th>4</th>\n",
       "      <td>5</td>\n",
       "      <td>15737888</td>\n",
       "      <td>Mitchell</td>\n",
       "      <td>850</td>\n",
       "      <td>Spain</td>\n",
       "      <td>Female</td>\n",
       "      <td>43</td>\n",
       "      <td>2</td>\n",
       "      <td>125510.82</td>\n",
       "      <td>1</td>\n",
       "      <td>1</td>\n",
       "      <td>1</td>\n",
       "      <td>79084.10</td>\n",
       "      <td>0</td>\n",
       "    </tr>\n",
       "  </tbody>\n",
       "</table>\n",
       "</div>"
      ],
      "text/plain": [
       "   RowNumber  CustomerId   Surname  CreditScore Geography  Gender  Age  \\\n",
       "0          1    15634602  Hargrave          619    France  Female   42   \n",
       "1          2    15647311      Hill          608     Spain  Female   41   \n",
       "2          3    15619304      Onio          502    France  Female   42   \n",
       "3          4    15701354      Boni          699    France  Female   39   \n",
       "4          5    15737888  Mitchell          850     Spain  Female   43   \n",
       "\n",
       "   Tenure    Balance  NumOfProducts  HasCrCard  IsActiveMember  \\\n",
       "0       2       0.00              1          1               1   \n",
       "1       1   83807.86              1          0               1   \n",
       "2       8  159660.80              3          1               0   \n",
       "3       1       0.00              2          0               0   \n",
       "4       2  125510.82              1          1               1   \n",
       "\n",
       "   EstimatedSalary  Exited  \n",
       "0        101348.88       1  \n",
       "1        112542.58       0  \n",
       "2        113931.57       1  \n",
       "3         93826.63       0  \n",
       "4         79084.10       0  "
      ]
     },
     "execution_count": 3,
     "metadata": {},
     "output_type": "execute_result"
    }
   ],
   "source": [
    "dat = pd.read_csv('../../data/Churn_Modelling.csv')\n",
    "dat.head()"
   ]
  },
  {
   "cell_type": "code",
   "execution_count": 6,
   "metadata": {},
   "outputs": [],
   "source": [
    "# preprocessing\n",
    "\n",
    "# remove col 1,2,3\n",
    "X = dat.iloc[:, 3:-1].values\n",
    "Y = dat.iloc[:, -1].values"
   ]
  },
  {
   "cell_type": "code",
   "execution_count": 7,
   "metadata": {},
   "outputs": [
    {
     "name": "stdout",
     "output_type": "stream",
     "text": [
      "[[619 'France' 'Female' ... 1 1 101348.88]\n",
      " [608 'Spain' 'Female' ... 0 1 112542.58]\n",
      " [502 'France' 'Female' ... 1 0 113931.57]\n",
      " ...\n",
      " [709 'France' 'Female' ... 0 1 42085.58]\n",
      " [772 'Germany' 'Male' ... 1 0 92888.52]\n",
      " [792 'France' 'Female' ... 1 0 38190.78]]\n",
      "[1 0 1 ... 1 1 0]\n"
     ]
    }
   ],
   "source": [
    "print(X)\n",
    "print(Y)"
   ]
  },
  {
   "cell_type": "code",
   "execution_count": 10,
   "metadata": {},
   "outputs": [
    {
     "name": "stdout",
     "output_type": "stream",
     "text": [
      "[[619 'France' 0 42 2 0.0 1 1 1 101348.88]\n",
      " [608 'Spain' 0 41 1 83807.86 1 0 1 112542.58]\n",
      " [502 'France' 0 42 8 159660.8 3 1 0 113931.57]\n",
      " [699 'France' 0 39 1 0.0 2 0 0 93826.63]\n",
      " [850 'Spain' 0 43 2 125510.82 1 1 1 79084.1]]\n"
     ]
    }
   ],
   "source": [
    "# encode categorical data\n",
    "\n",
    "# Gender\n",
    "le = LabelEncoder()\n",
    "X[:, 2] = le.fit_transform(X[:, 2])\n",
    "print(X[:5])\n",
    "\n",
    "# Female=0; Male=1"
   ]
  },
  {
   "cell_type": "code",
   "execution_count": 12,
   "metadata": {},
   "outputs": [
    {
     "name": "stdout",
     "output_type": "stream",
     "text": [
      "(10000, 10)\n",
      "(10000, 12)\n"
     ]
    }
   ],
   "source": [
    "# Country\n",
    "print(X.shape)\n",
    "\n",
    "ct = ColumnTransformer(transformers=[('encoder', OneHotEncoder(), [1])], remainder='passthrough')\n",
    "X = np.array(ct.fit_transform(X))\n",
    "print(X.shape)"
   ]
  },
  {
   "cell_type": "code",
   "execution_count": 14,
   "metadata": {},
   "outputs": [
    {
     "name": "stdout",
     "output_type": "stream",
     "text": [
      "(8000, 12)\n",
      "(2000, 12)\n"
     ]
    }
   ],
   "source": [
    "# split the data\n",
    "\n",
    "X_train, X_test, Y_train, Y_test = train_test_split(X, Y, test_size=0.2, random_state=42)\n",
    "print(X_train.shape)\n",
    "print(X_test.shape)"
   ]
  },
  {
   "cell_type": "code",
   "execution_count": 15,
   "metadata": {},
   "outputs": [],
   "source": [
    "# feature scaling \n",
    "sc = StandardScaler()\n",
    "X_train = sc.fit_transform(X_train)\n",
    "X_test = sc.transform(X_test)"
   ]
  },
  {
   "cell_type": "code",
   "execution_count": 16,
   "metadata": {},
   "outputs": [],
   "source": [
    "# model\n",
    "\n",
    "annClassifier = tf.keras.models.Sequential()"
   ]
  },
  {
   "cell_type": "code",
   "execution_count": 17,
   "metadata": {},
   "outputs": [],
   "source": [
    "# add layers to model - hidden layers\n",
    "\n",
    "# 1st hidden later\n",
    "annClassifier.add(tf.keras.layers.Dense(units=6, activation='relu'))\n",
    "\n",
    "# 2nd hidden layer\n",
    "annClassifier.add(tf.keras.layers.Dense(units=6, activation='relu'))\n",
    "\n",
    "# output layer - binary output, so 1 neuron is enough\n",
    "annClassifier.add(tf.keras.layers.Dense(units=1, activation='sigmoid'))"
   ]
  },
  {
   "cell_type": "code",
   "execution_count": 20,
   "metadata": {},
   "outputs": [],
   "source": [
    "# compile the model\n",
    "# optimizer - is to iteratively update \n",
    "# weights - gradient decent\n",
    "\n",
    "annClassifier.compile(optimizer='adam', \n",
    "                      loss='binary_crossentropy', \n",
    "                      metrics=['accuracy'])"
   ]
  },
  {
   "cell_type": "code",
   "execution_count": 21,
   "metadata": {},
   "outputs": [
    {
     "name": "stdout",
     "output_type": "stream",
     "text": [
      "Train on 8000 samples\n",
      "Epoch 1/100\n",
      "8000/8000 [==============================] - 1s 129us/sample - loss: 0.6740 - accuracy: 0.6119\n",
      "Epoch 2/100\n",
      "8000/8000 [==============================] - 0s 54us/sample - loss: 0.4737 - accuracy: 0.8029\n",
      "Epoch 3/100\n",
      "8000/8000 [==============================] - 0s 54us/sample - loss: 0.4411 - accuracy: 0.8094\n",
      "Epoch 4/100\n",
      "8000/8000 [==============================] - 0s 54us/sample - loss: 0.4292 - accuracy: 0.8167\n",
      "Epoch 5/100\n",
      "8000/8000 [==============================] - 0s 55us/sample - loss: 0.4185 - accuracy: 0.8235\n",
      "Epoch 6/100\n",
      "8000/8000 [==============================] - 0s 56us/sample - loss: 0.4037 - accuracy: 0.8300s - loss: 0.4128 - accuracy\n",
      "Epoch 7/100\n",
      "8000/8000 [==============================] - 0s 56us/sample - loss: 0.3882 - accuracy: 0.8365\n",
      "Epoch 8/100\n",
      "8000/8000 [==============================] - 0s 56us/sample - loss: 0.3763 - accuracy: 0.8409\n",
      "Epoch 9/100\n",
      "8000/8000 [==============================] - 0s 56us/sample - loss: 0.3681 - accuracy: 0.8456\n",
      "Epoch 10/100\n",
      "8000/8000 [==============================] - 0s 56us/sample - loss: 0.3618 - accuracy: 0.8476\n",
      "Epoch 11/100\n",
      "8000/8000 [==============================] - 0s 56us/sample - loss: 0.3576 - accuracy: 0.8494\n",
      "Epoch 12/100\n",
      "8000/8000 [==============================] - 0s 58us/sample - loss: 0.3544 - accuracy: 0.8528\n",
      "Epoch 13/100\n",
      "8000/8000 [==============================] - 0s 55us/sample - loss: 0.3522 - accuracy: 0.8537\n",
      "Epoch 14/100\n",
      "8000/8000 [==============================] - 0s 55us/sample - loss: 0.3500 - accuracy: 0.8543\n",
      "Epoch 15/100\n",
      "8000/8000 [==============================] - 0s 55us/sample - loss: 0.3481 - accuracy: 0.8560\n",
      "Epoch 16/100\n",
      "8000/8000 [==============================] - 0s 55us/sample - loss: 0.3469 - accuracy: 0.8569\n",
      "Epoch 17/100\n",
      "8000/8000 [==============================] - 0s 55us/sample - loss: 0.3455 - accuracy: 0.8577\n",
      "Epoch 18/100\n",
      "8000/8000 [==============================] - 0s 56us/sample - loss: 0.3445 - accuracy: 0.8575\n",
      "Epoch 19/100\n",
      "8000/8000 [==============================] - 0s 56us/sample - loss: 0.3435 - accuracy: 0.8587\n",
      "Epoch 20/100\n",
      "8000/8000 [==============================] - 0s 56us/sample - loss: 0.3431 - accuracy: 0.8583\n",
      "Epoch 21/100\n",
      "8000/8000 [==============================] - 0s 61us/sample - loss: 0.3422 - accuracy: 0.8589\n",
      "Epoch 22/100\n",
      "8000/8000 [==============================] - 1s 70us/sample - loss: 0.3416 - accuracy: 0.8587\n",
      "Epoch 23/100\n",
      "8000/8000 [==============================] - 1s 67us/sample - loss: 0.3408 - accuracy: 0.8581s - loss: 0.3409 - accuracy: \n",
      "Epoch 24/100\n",
      "8000/8000 [==============================] - 1s 74us/sample - loss: 0.3403 - accuracy: 0.8580\n",
      "Epoch 25/100\n",
      "8000/8000 [==============================] - 1s 81us/sample - loss: 0.3403 - accuracy: 0.8585\n",
      "Epoch 26/100\n",
      "8000/8000 [==============================] - 1s 80us/sample - loss: 0.3392 - accuracy: 0.8606\n",
      "Epoch 27/100\n",
      "8000/8000 [==============================] - 1s 83us/sample - loss: 0.3393 - accuracy: 0.8594\n",
      "Epoch 28/100\n",
      "8000/8000 [==============================] - 1s 70us/sample - loss: 0.3388 - accuracy: 0.8600\n",
      "Epoch 29/100\n",
      "8000/8000 [==============================] - 1s 88us/sample - loss: 0.3384 - accuracy: 0.8591\n",
      "Epoch 30/100\n",
      "8000/8000 [==============================] - 0s 61us/sample - loss: 0.3377 - accuracy: 0.8601\n",
      "Epoch 31/100\n",
      "8000/8000 [==============================] - 0s 55us/sample - loss: 0.3375 - accuracy: 0.8599\n",
      "Epoch 32/100\n",
      "8000/8000 [==============================] - 0s 56us/sample - loss: 0.3374 - accuracy: 0.8594\n",
      "Epoch 33/100\n",
      "8000/8000 [==============================] - 0s 56us/sample - loss: 0.3371 - accuracy: 0.8584\n",
      "Epoch 34/100\n",
      "8000/8000 [==============================] - 0s 62us/sample - loss: 0.3367 - accuracy: 0.8604\n",
      "Epoch 35/100\n",
      "8000/8000 [==============================] - 0s 58us/sample - loss: 0.3362 - accuracy: 0.8601\n",
      "Epoch 36/100\n",
      "8000/8000 [==============================] - 0s 57us/sample - loss: 0.3360 - accuracy: 0.8601\n",
      "Epoch 37/100\n",
      "8000/8000 [==============================] - 1s 74us/sample - loss: 0.3359 - accuracy: 0.8622\n",
      "Epoch 38/100\n",
      "8000/8000 [==============================] - 1s 63us/sample - loss: 0.3357 - accuracy: 0.8608\n",
      "Epoch 39/100\n",
      "8000/8000 [==============================] - 1s 72us/sample - loss: 0.3355 - accuracy: 0.8602\n",
      "Epoch 40/100\n",
      "8000/8000 [==============================] - 0s 61us/sample - loss: 0.3354 - accuracy: 0.8600\n",
      "Epoch 41/100\n",
      "8000/8000 [==============================] - 0s 60us/sample - loss: 0.3351 - accuracy: 0.8611\n",
      "Epoch 42/100\n",
      "8000/8000 [==============================] - 1s 69us/sample - loss: 0.3344 - accuracy: 0.8605s - loss: 0.3341 - accuracy: 0.\n",
      "Epoch 43/100\n",
      "8000/8000 [==============================] - 0s 61us/sample - loss: 0.3348 - accuracy: 0.8618\n",
      "Epoch 44/100\n",
      "8000/8000 [==============================] - 0s 61us/sample - loss: 0.3339 - accuracy: 0.8605\n",
      "Epoch 45/100\n",
      "8000/8000 [==============================] - 1s 74us/sample - loss: 0.3341 - accuracy: 0.8619\n",
      "Epoch 46/100\n",
      "8000/8000 [==============================] - 0s 55us/sample - loss: 0.3338 - accuracy: 0.8614\n",
      "Epoch 47/100\n",
      "8000/8000 [==============================] - 0s 62us/sample - loss: 0.3335 - accuracy: 0.8605\n",
      "Epoch 48/100\n",
      "8000/8000 [==============================] - 1s 63us/sample - loss: 0.3332 - accuracy: 0.8602\n",
      "Epoch 49/100\n",
      "8000/8000 [==============================] - 0s 62us/sample - loss: 0.3332 - accuracy: 0.8612\n",
      "Epoch 50/100\n",
      "8000/8000 [==============================] - 0s 61us/sample - loss: 0.3331 - accuracy: 0.8600\n",
      "Epoch 51/100\n",
      "8000/8000 [==============================] - 1s 68us/sample - loss: 0.3328 - accuracy: 0.8622\n",
      "Epoch 52/100\n",
      "8000/8000 [==============================] - 1s 63us/sample - loss: 0.3325 - accuracy: 0.8631\n",
      "Epoch 53/100\n",
      "8000/8000 [==============================] - 1s 70us/sample - loss: 0.3323 - accuracy: 0.8621\n",
      "Epoch 54/100\n",
      "8000/8000 [==============================] - 0s 55us/sample - loss: 0.3323 - accuracy: 0.8614\n",
      "Epoch 55/100\n",
      "8000/8000 [==============================] - 0s 56us/sample - loss: 0.3321 - accuracy: 0.8625\n",
      "Epoch 56/100\n",
      "8000/8000 [==============================] - 0s 55us/sample - loss: 0.3320 - accuracy: 0.8616\n",
      "Epoch 57/100\n",
      "8000/8000 [==============================] - 0s 56us/sample - loss: 0.3319 - accuracy: 0.8626\n",
      "Epoch 58/100\n",
      "8000/8000 [==============================] - 0s 57us/sample - loss: 0.3319 - accuracy: 0.8611\n",
      "Epoch 59/100\n",
      "8000/8000 [==============================] - 1s 65us/sample - loss: 0.3314 - accuracy: 0.8634\n",
      "Epoch 60/100\n",
      "8000/8000 [==============================] - 0s 62us/sample - loss: 0.3315 - accuracy: 0.8627\n",
      "Epoch 61/100\n",
      "8000/8000 [==============================] - 1s 68us/sample - loss: 0.3312 - accuracy: 0.8629\n",
      "Epoch 62/100\n",
      "8000/8000 [==============================] - 1s 66us/sample - loss: 0.3314 - accuracy: 0.8627\n",
      "Epoch 63/100\n",
      "8000/8000 [==============================] - 1s 63us/sample - loss: 0.3313 - accuracy: 0.8625\n",
      "Epoch 64/100\n",
      "8000/8000 [==============================] - 1s 66us/sample - loss: 0.3310 - accuracy: 0.8634\n",
      "Epoch 65/100\n",
      "8000/8000 [==============================] - 1s 63us/sample - loss: 0.3314 - accuracy: 0.8626\n",
      "Epoch 66/100\n",
      "8000/8000 [==============================] - 0s 61us/sample - loss: 0.3313 - accuracy: 0.8626\n",
      "Epoch 67/100\n",
      "8000/8000 [==============================] - 0s 59us/sample - loss: 0.3310 - accuracy: 0.8616\n",
      "Epoch 68/100\n",
      "8000/8000 [==============================] - 0s 58us/sample - loss: 0.3307 - accuracy: 0.8627\n",
      "Epoch 69/100\n",
      "8000/8000 [==============================] - 0s 58us/sample - loss: 0.3306 - accuracy: 0.8629\n",
      "Epoch 70/100\n",
      "8000/8000 [==============================] - 1s 67us/sample - loss: 0.3303 - accuracy: 0.8631\n",
      "Epoch 71/100\n",
      "8000/8000 [==============================] - 0s 62us/sample - loss: 0.3306 - accuracy: 0.8645\n",
      "Epoch 72/100\n",
      "8000/8000 [==============================] - 1s 67us/sample - loss: 0.3303 - accuracy: 0.8639\n",
      "Epoch 73/100\n",
      "8000/8000 [==============================] - 0s 62us/sample - loss: 0.3301 - accuracy: 0.8635\n",
      "Epoch 74/100\n",
      "8000/8000 [==============================] - 1s 64us/sample - loss: 0.3302 - accuracy: 0.8624\n",
      "Epoch 75/100\n",
      "8000/8000 [==============================] - 0s 56us/sample - loss: 0.3303 - accuracy: 0.8633\n",
      "Epoch 76/100\n"
     ]
    },
    {
     "name": "stdout",
     "output_type": "stream",
     "text": [
      "8000/8000 [==============================] - 0s 56us/sample - loss: 0.3296 - accuracy: 0.8633\n",
      "Epoch 77/100\n",
      "8000/8000 [==============================] - 0s 56us/sample - loss: 0.3293 - accuracy: 0.8643\n",
      "Epoch 78/100\n",
      "8000/8000 [==============================] - 0s 57us/sample - loss: 0.3299 - accuracy: 0.8626\n",
      "Epoch 79/100\n",
      "8000/8000 [==============================] - 0s 59us/sample - loss: 0.3295 - accuracy: 0.8633\n",
      "Epoch 80/100\n",
      "8000/8000 [==============================] - 0s 59us/sample - loss: 0.3296 - accuracy: 0.8635\n",
      "Epoch 81/100\n",
      "8000/8000 [==============================] - 0s 57us/sample - loss: 0.3292 - accuracy: 0.8636\n",
      "Epoch 82/100\n",
      "8000/8000 [==============================] - 1s 67us/sample - loss: 0.3294 - accuracy: 0.8649s - loss: 0.3323 - accuracy: \n",
      "Epoch 83/100\n",
      "8000/8000 [==============================] - 0s 55us/sample - loss: 0.3294 - accuracy: 0.8631\n",
      "Epoch 84/100\n",
      "8000/8000 [==============================] - 0s 56us/sample - loss: 0.3293 - accuracy: 0.8645\n",
      "Epoch 85/100\n",
      "8000/8000 [==============================] - 0s 56us/sample - loss: 0.3292 - accuracy: 0.8646\n",
      "Epoch 86/100\n",
      "8000/8000 [==============================] - 0s 60us/sample - loss: 0.3290 - accuracy: 0.8645\n",
      "Epoch 87/100\n",
      "8000/8000 [==============================] - 0s 51us/sample - loss: 0.3293 - accuracy: 0.8633\n",
      "Epoch 88/100\n",
      "8000/8000 [==============================] - 0s 50us/sample - loss: 0.3289 - accuracy: 0.8631s - loss: 0.3171 - accu\n",
      "Epoch 89/100\n",
      "8000/8000 [==============================] - 0s 56us/sample - loss: 0.3290 - accuracy: 0.8639\n",
      "Epoch 90/100\n",
      "8000/8000 [==============================] - 0s 53us/sample - loss: 0.3292 - accuracy: 0.8634\n",
      "Epoch 91/100\n",
      "8000/8000 [==============================] - 0s 53us/sample - loss: 0.3289 - accuracy: 0.8635\n",
      "Epoch 92/100\n",
      "8000/8000 [==============================] - 1s 75us/sample - loss: 0.3290 - accuracy: 0.8640s - loss: 0.3348 - accura\n",
      "Epoch 93/100\n",
      "8000/8000 [==============================] - 0s 60us/sample - loss: 0.3291 - accuracy: 0.8640\n",
      "Epoch 94/100\n",
      "8000/8000 [==============================] - 1s 66us/sample - loss: 0.3287 - accuracy: 0.8643\n",
      "Epoch 95/100\n",
      "8000/8000 [==============================] - 1s 63us/sample - loss: 0.3292 - accuracy: 0.8640s - loss: 0.3290 - accuracy: \n",
      "Epoch 96/100\n",
      "8000/8000 [==============================] - 0s 59us/sample - loss: 0.3285 - accuracy: 0.8656\n",
      "Epoch 97/100\n",
      "8000/8000 [==============================] - 1s 68us/sample - loss: 0.3288 - accuracy: 0.8637\n",
      "Epoch 98/100\n",
      "8000/8000 [==============================] - 0s 59us/sample - loss: 0.3285 - accuracy: 0.8646\n",
      "Epoch 99/100\n",
      "8000/8000 [==============================] - 0s 62us/sample - loss: 0.3285 - accuracy: 0.8641\n",
      "Epoch 100/100\n",
      "8000/8000 [==============================] - 1s 64us/sample - loss: 0.3285 - accuracy: 0.8636\n"
     ]
    },
    {
     "data": {
      "text/plain": [
       "<tensorflow.python.keras.callbacks.History at 0x140615e10>"
      ]
     },
     "execution_count": 21,
     "metadata": {},
     "output_type": "execute_result"
    }
   ],
   "source": [
    "# train the model\n",
    "annClassifier.fit(X_train, Y_train, batch_size=32, epochs=100)"
   ]
  },
  {
   "cell_type": "code",
   "execution_count": 29,
   "metadata": {},
   "outputs": [
    {
     "data": {
      "text/plain": [
       "array([[False],\n",
       "       [False],\n",
       "       [False],\n",
       "       ...,\n",
       "       [ True],\n",
       "       [False],\n",
       "       [False]])"
      ]
     },
     "execution_count": 29,
     "metadata": {},
     "output_type": "execute_result"
    }
   ],
   "source": [
    "# training data accuracy = 0.86\n",
    "# reasonably good\n",
    "\n",
    "# predictions are probabilities of being '1'\n",
    "# use classic >0.5 as 1\n",
    "\n",
    "Y_pred = annClassifier.predict(X_test)\n",
    "Y_pred = (Y_pred > 0.5)\n",
    "Y_pred"
   ]
  },
  {
   "cell_type": "code",
   "execution_count": 35,
   "metadata": {},
   "outputs": [
    {
     "data": {
      "text/plain": [
       "array([[0, 0],\n",
       "       [0, 0],\n",
       "       [0, 0],\n",
       "       ...,\n",
       "       [1, 1],\n",
       "       [0, 1],\n",
       "       [0, 1]])"
      ]
     },
     "execution_count": 35,
     "metadata": {},
     "output_type": "execute_result"
    }
   ],
   "source": [
    "Y_test_pred = np.concatenate((Y_pred.reshape(len(Y_pred), 1), Y_test.reshape(len(Y_test), 1)), 1)\n",
    "Y_test_pred"
   ]
  },
  {
   "cell_type": "code",
   "execution_count": 37,
   "metadata": {},
   "outputs": [
    {
     "data": {
      "text/plain": [
       "0.8645"
      ]
     },
     "execution_count": 37,
     "metadata": {},
     "output_type": "execute_result"
    }
   ],
   "source": [
    "accuracy_score(Y_test, Y_pred)"
   ]
  },
  {
   "cell_type": "code",
   "execution_count": 38,
   "metadata": {},
   "outputs": [
    {
     "data": {
      "text/plain": [
       "array([[1555,   52],\n",
       "       [ 219,  174]])"
      ]
     },
     "execution_count": 38,
     "metadata": {},
     "output_type": "execute_result"
    }
   ],
   "source": [
    "confusion_matrix(Y_test, Y_pred)"
   ]
  },
  {
   "cell_type": "code",
   "execution_count": null,
   "metadata": {},
   "outputs": [],
   "source": [
    "# not a bad accuracy without any hyper-parameter tuning"
   ]
  }
 ],
 "metadata": {
  "kernelspec": {
   "display_name": "Python 3",
   "language": "python",
   "name": "python3"
  },
  "language_info": {
   "codemirror_mode": {
    "name": "ipython",
    "version": 3
   },
   "file_extension": ".py",
   "mimetype": "text/x-python",
   "name": "python",
   "nbconvert_exporter": "python",
   "pygments_lexer": "ipython3",
   "version": "3.7.1"
  },
  "toc": {
   "base_numbering": 1,
   "nav_menu": {},
   "number_sections": true,
   "sideBar": true,
   "skip_h1_title": false,
   "title_cell": "Table of Contents",
   "title_sidebar": "Contents",
   "toc_cell": false,
   "toc_position": {},
   "toc_section_display": true,
   "toc_window_display": false
  }
 },
 "nbformat": 4,
 "nbformat_minor": 2
}
