{
 "cells": [
  {
   "cell_type": "code",
   "execution_count": 1,
   "metadata": {},
   "outputs": [],
   "source": [
    "# @itsvenu_\n",
    "# Convolutional Neural Networks - for image recognition\n",
    "\n",
    "# convolution operation layer\n",
    "# ReLU layer - to increase non-linearity (images are non-linear in nature)\n",
    "# max pooling - spatial invarience\n",
    "# flattening\n",
    "\n",
    "# data\n",
    "# 4k - dog images\n",
    "# 4k - cat images"
   ]
  },
  {
   "cell_type": "code",
   "execution_count": 24,
   "metadata": {},
   "outputs": [
    {
     "name": "stdout",
     "output_type": "stream",
     "text": [
      "2.1.0\n"
     ]
    }
   ],
   "source": [
    "import pandas as pd\n",
    "import numpy as np\n",
    "import tensorflow as tf\n",
    "print(tf.__version__)\n",
    "\n",
    "from keras_preprocessing.image import ImageDataGenerator\n",
    "from keras_preprocessing import image"
   ]
  },
  {
   "cell_type": "code",
   "execution_count": 6,
   "metadata": {},
   "outputs": [
    {
     "name": "stdout",
     "output_type": "stream",
     "text": [
      "Found 8000 images belonging to 2 classes.\n"
     ]
    }
   ],
   "source": [
    "# transformation on training data\n",
    "# to avoid overfitting\n",
    "\n",
    "# - Geometrical transformations\n",
    "# - zoom+/-\n",
    "# - rotating\n",
    "\n",
    "# https://keras.io/api/preprocessing/image/\n",
    "\n",
    "train_datagen = ImageDataGenerator(rescale=1./255,\n",
    "                                   shear_range=0.2,\n",
    "                                   zoom_range=0.2,\n",
    "                                   horizontal_flip=True)\n",
    "\n",
    "train_set = train_datagen.flow_from_directory('../../data/dataset/training_set',\n",
    "                                                    target_size=(64, 64), # pixels\n",
    "                                                    batch_size=32,\n",
    "                                                    class_mode='binary')"
   ]
  },
  {
   "cell_type": "code",
   "execution_count": 7,
   "metadata": {},
   "outputs": [
    {
     "name": "stdout",
     "output_type": "stream",
     "text": [
      "Found 2000 images belonging to 2 classes.\n"
     ]
    }
   ],
   "source": [
    "# preprocess the test set\n",
    "test_datagen = ImageDataGenerator(rescale=1./255)\n",
    "\n",
    "test_set = test_datagen.flow_from_directory('../../data/dataset/test_set',\n",
    "                                            target_size=(64, 64),\n",
    "                                            batch_size=32,\n",
    "                                            class_mode='binary')"
   ]
  },
  {
   "cell_type": "code",
   "execution_count": 14,
   "metadata": {},
   "outputs": [],
   "source": [
    "# build CNN\n",
    "\n",
    "cnnClassifier = tf.keras.models.Sequential()"
   ]
  },
  {
   "cell_type": "code",
   "execution_count": 15,
   "metadata": {},
   "outputs": [],
   "source": [
    "# 1 convolution\n",
    "\n",
    "cnnClassifier.add(tf.keras.layers.Conv2D(filters=32,\n",
    "                                        kernel_size=3,\n",
    "                                        activation='relu',\n",
    "                                        input_shape=[64,64,3])) # 64x64 pixels, 3-rgb colors; 1 if black-n-white"
   ]
  },
  {
   "cell_type": "code",
   "execution_count": 16,
   "metadata": {},
   "outputs": [],
   "source": [
    "# 2 pooling\n",
    "\n",
    "cnnClassifier.add(tf.keras.layers.MaxPool2D(pool_size=2,\n",
    "                                           strides=2))"
   ]
  },
  {
   "cell_type": "code",
   "execution_count": 17,
   "metadata": {},
   "outputs": [],
   "source": [
    "# 3 second layer of convolution & pooling\n",
    "\n",
    "cnnClassifier.add(tf.keras.layers.Conv2D(filters=32,\n",
    "                                        kernel_size=3,\n",
    "                                        activation='relu')) \n",
    "\n",
    "cnnClassifier.add(tf.keras.layers.MaxPool2D(pool_size=2,\n",
    "                                           strides=2))"
   ]
  },
  {
   "cell_type": "code",
   "execution_count": 18,
   "metadata": {},
   "outputs": [],
   "source": [
    "# 4 flattening\n",
    "\n",
    "cnnClassifier.add(tf.keras.layers.Flatten())"
   ]
  },
  {
   "cell_type": "code",
   "execution_count": 20,
   "metadata": {},
   "outputs": [],
   "source": [
    "# 5 full connection\n",
    "\n",
    "cnnClassifier.add(tf.keras.layers.Dense(units=128,\n",
    "                             activation='relu'))"
   ]
  },
  {
   "cell_type": "code",
   "execution_count": 21,
   "metadata": {},
   "outputs": [],
   "source": [
    "# 6 output layer\n",
    "\n",
    "cnnClassifier.add(tf.keras.layers.Dense(units=1, \n",
    "                                        activation='sigmoid'))"
   ]
  },
  {
   "cell_type": "code",
   "execution_count": 23,
   "metadata": {},
   "outputs": [
    {
     "name": "stdout",
     "output_type": "stream",
     "text": [
      "WARNING:tensorflow:sample_weight modes were coerced from\n",
      "  ...\n",
      "    to  \n",
      "  ['...']\n",
      "WARNING:tensorflow:sample_weight modes were coerced from\n",
      "  ...\n",
      "    to  \n",
      "  ['...']\n",
      "Train for 250 steps, validate for 63 steps\n",
      "Epoch 1/25\n",
      "250/250 [==============================] - 63s 250ms/step - loss: 0.6566 - accuracy: 0.6030 - val_loss: 0.6104 - val_accuracy: 0.6690\n",
      "Epoch 2/25\n",
      "250/250 [==============================] - 61s 246ms/step - loss: 0.5773 - accuracy: 0.6954 - val_loss: 0.5372 - val_accuracy: 0.7355\n",
      "Epoch 3/25\n",
      "250/250 [==============================] - 62s 247ms/step - loss: 0.5361 - accuracy: 0.7265 - val_loss: 0.4951 - val_accuracy: 0.7610\n",
      "Epoch 4/25\n",
      "250/250 [==============================] - 67s 267ms/step - loss: 0.5049 - accuracy: 0.7456 - val_loss: 0.4989 - val_accuracy: 0.7540\n",
      "Epoch 5/25\n",
      "250/250 [==============================] - 55s 220ms/step - loss: 0.4889 - accuracy: 0.7589 - val_loss: 0.4845 - val_accuracy: 0.7775\n",
      "Epoch 6/25\n",
      "250/250 [==============================] - 63s 253ms/step - loss: 0.4718 - accuracy: 0.7734 - val_loss: 0.4875 - val_accuracy: 0.7765\n",
      "Epoch 7/25\n",
      "250/250 [==============================] - 57s 229ms/step - loss: 0.4590 - accuracy: 0.7799 - val_loss: 0.4557 - val_accuracy: 0.7855\n",
      "Epoch 8/25\n",
      "250/250 [==============================] - 55s 222ms/step - loss: 0.4310 - accuracy: 0.7971 - val_loss: 0.4840 - val_accuracy: 0.7840\n",
      "Epoch 9/25\n",
      "250/250 [==============================] - 58s 231ms/step - loss: 0.4237 - accuracy: 0.8041 - val_loss: 0.5391 - val_accuracy: 0.7620\n",
      "Epoch 10/25\n",
      "250/250 [==============================] - 47s 188ms/step - loss: 0.4202 - accuracy: 0.8021 - val_loss: 0.4970 - val_accuracy: 0.7770\n",
      "Epoch 11/25\n",
      "250/250 [==============================] - 61s 243ms/step - loss: 0.4051 - accuracy: 0.8111 - val_loss: 0.5168 - val_accuracy: 0.7820\n",
      "Epoch 12/25\n",
      "250/250 [==============================] - 54s 218ms/step - loss: 0.3986 - accuracy: 0.8202 - val_loss: 0.4675 - val_accuracy: 0.7855\n",
      "Epoch 13/25\n",
      "250/250 [==============================] - 50s 199ms/step - loss: 0.3855 - accuracy: 0.8239 - val_loss: 0.5661 - val_accuracy: 0.7590\n",
      "Epoch 14/25\n",
      "250/250 [==============================] - 66s 263ms/step - loss: 0.3842 - accuracy: 0.8216 - val_loss: 0.4827 - val_accuracy: 0.7920\n",
      "Epoch 15/25\n",
      "250/250 [==============================] - 67s 268ms/step - loss: 0.3631 - accuracy: 0.8375 - val_loss: 0.5393 - val_accuracy: 0.7685\n",
      "Epoch 16/25\n",
      "250/250 [==============================] - 58s 232ms/step - loss: 0.3592 - accuracy: 0.8382 - val_loss: 0.4944 - val_accuracy: 0.7880\n",
      "Epoch 17/25\n",
      "250/250 [==============================] - 62s 247ms/step - loss: 0.3417 - accuracy: 0.8504 - val_loss: 0.5152 - val_accuracy: 0.7815\n",
      "Epoch 18/25\n",
      "250/250 [==============================] - 57s 229ms/step - loss: 0.3371 - accuracy: 0.8485 - val_loss: 0.4718 - val_accuracy: 0.7980\n",
      "Epoch 19/25\n",
      "250/250 [==============================] - 55s 219ms/step - loss: 0.3354 - accuracy: 0.8486 - val_loss: 0.4620 - val_accuracy: 0.8120\n",
      "Epoch 20/25\n",
      "250/250 [==============================] - 55s 220ms/step - loss: 0.3171 - accuracy: 0.8625 - val_loss: 0.4692 - val_accuracy: 0.8075\n",
      "Epoch 21/25\n",
      "250/250 [==============================] - 51s 205ms/step - loss: 0.2964 - accuracy: 0.8692 - val_loss: 0.5389 - val_accuracy: 0.7770\n",
      "Epoch 22/25\n",
      "250/250 [==============================] - 55s 219ms/step - loss: 0.3000 - accuracy: 0.8733 - val_loss: 0.5038 - val_accuracy: 0.8000\n",
      "Epoch 23/25\n",
      "250/250 [==============================] - 59s 238ms/step - loss: 0.2841 - accuracy: 0.8766 - val_loss: 0.4712 - val_accuracy: 0.8025\n",
      "Epoch 24/25\n",
      "250/250 [==============================] - 65s 260ms/step - loss: 0.2789 - accuracy: 0.8829 - val_loss: 0.4819 - val_accuracy: 0.8130\n",
      "Epoch 25/25\n",
      "250/250 [==============================] - 48s 191ms/step - loss: 0.2698 - accuracy: 0.8844 - val_loss: 0.5132 - val_accuracy: 0.7960\n"
     ]
    },
    {
     "data": {
      "text/plain": [
       "<tensorflow.python.keras.callbacks.History at 0x13aafb748>"
      ]
     },
     "execution_count": 23,
     "metadata": {},
     "output_type": "execute_result"
    }
   ],
   "source": [
    "# 7 training the CNN\n",
    "\n",
    "# compile\n",
    "cnnClassifier.compile(optimizer='adam',\n",
    "                     loss='binary_crossentropy',\n",
    "                     metrics=['accuracy'])\n",
    "\n",
    "# train\n",
    "cnnClassifier.fit(x = train_set, validation_data=test_set, epochs=25)"
   ]
  },
  {
   "cell_type": "code",
   "execution_count": 26,
   "metadata": {},
   "outputs": [
    {
     "data": {
      "text/plain": [
       "array([[1.]], dtype=float32)"
      ]
     },
     "execution_count": 26,
     "metadata": {},
     "output_type": "execute_result"
    }
   ],
   "source": [
    "# test acuracy is ~80%\n",
    "# now make a single-image predictions\n",
    "\n",
    "test_imge = image.load_img('cat_or_dog_1.jpg', target_size=(64,64))\n",
    "test_imge = image.img_to_array(test_imge)\n",
    "test_imge = np.expand_dims(test_imge, axis=0)\n",
    "\n",
    "# prediction\n",
    "result = cnnClassifier.predict(test_imge)\n",
    "result"
   ]
  },
  {
   "cell_type": "code",
   "execution_count": 27,
   "metadata": {},
   "outputs": [
    {
     "data": {
      "text/plain": [
       "{'cats': 0, 'dogs': 1}"
      ]
     },
     "execution_count": 27,
     "metadata": {},
     "output_type": "execute_result"
    }
   ],
   "source": [
    "train_set.class_indices"
   ]
  },
  {
   "cell_type": "code",
   "execution_count": null,
   "metadata": {},
   "outputs": [],
   "source": [
    "# so above prediction is true\n",
    "# one can rotate the test image and check the predictions"
   ]
  },
  {
   "cell_type": "code",
   "execution_count": null,
   "metadata": {},
   "outputs": [],
   "source": []
  }
 ],
 "metadata": {
  "kernelspec": {
   "display_name": "Python 3",
   "language": "python",
   "name": "python3"
  },
  "language_info": {
   "codemirror_mode": {
    "name": "ipython",
    "version": 3
   },
   "file_extension": ".py",
   "mimetype": "text/x-python",
   "name": "python",
   "nbconvert_exporter": "python",
   "pygments_lexer": "ipython3",
   "version": "3.7.1"
  },
  "toc": {
   "base_numbering": 1,
   "nav_menu": {},
   "number_sections": true,
   "sideBar": true,
   "skip_h1_title": false,
   "title_cell": "Table of Contents",
   "title_sidebar": "Contents",
   "toc_cell": false,
   "toc_position": {},
   "toc_section_display": true,
   "toc_window_display": false
  }
 },
 "nbformat": 4,
 "nbformat_minor": 2
}
